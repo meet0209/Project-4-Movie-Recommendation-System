{
 "cells": [
  {
   "cell_type": "markdown",
   "id": "4881b759",
   "metadata": {},
   "source": [
    "# Movie Recommendation System: Build a recommendation system that suggests movies to users based on their past viewing history. You can use collaborative filtering or content-based filtering techniques for this."
   ]
  },
  {
   "cell_type": "markdown",
   "id": "beb80d23",
   "metadata": {},
   "source": [
    "## This is just a simple Python movie recommender system using the content-based filtering. It takes the old trusty TF-IDF (Term Frequency-Inverse Document Frequency) and cosine similarity to find out similar movies between the movies' overviews.\n",
    "\n",
    "Here's an overview of this awesome:\n",
    "\n",
    "1. Import the required libraries: pandas to handle the dataset, TfidfVectorizer to convert the text given into a matrix of tf-idf features, and linear_kernel to compute the cosine similarities.\n",
    "\n",
    "2. Read the movies dataset from a CSV file.\n",
    "\n",
    "3. It removes any rows in the dataset where the movie overview is missing.\n",
    "\n",
    "4. It instantiates a TF-IDF vectorizer transforming the series of 'overview' column of the dataset into a feature matrix of TF-IDF features. This matrix basically gives an indication of the relative importance of every word in the overview with respect to the document as well as the corpus.\n",
    "\n",
    "5. It calculates cosine similarity matrix between TF-IDF matrix, representing the cosine of the angle between each pair of movies in the high dimensional space. This score represents similarity and is going to be used to measure how similar are two movies.\n",
    "\n",
    "6. It defines a function get_recommendations(), which takes movie title as input and outputs 10 most similar movies. Retrieves the index of the input movie, get the similarity scores of all movies with that movie, sort the similaritie scores in descending order, get the indices of the top 10 movies and return their titles.\n",
    "\n",
    "7. Finally, it tests the function with the movie 'The Dark Knight Rises' and prints the recommended movies."
   ]
  },
  {
   "cell_type": "code",
   "execution_count": 2,
   "id": "2f793569",
   "metadata": {},
   "outputs": [
    {
     "name": "stdout",
     "output_type": "stream",
     "text": [
      "The Dark Knight\n",
      "Batman Forever\n",
      "Batman Returns\n",
      "Batman\n",
      "Batman: The Dark Knight Returns, Part 2\n",
      "Batman Begins\n",
      "Slow Burn\n",
      "Batman v Superman: Dawn of Justice\n",
      "JFK\n",
      "Batman & Robin\n"
     ]
    }
   ],
   "source": [
    "import pandas as pd\n",
    "from sklearn.feature_extraction.text import TfidfVectorizer\n",
    "from sklearn.metrics.pairwise import linear_kernel\n",
    "\n",
    "# Load Movies data\n",
    "movies = pd.read_csv('tmdb_5000_movies.csv')\n",
    "\n",
    "# Remove rows with missing overviews\n",
    "movies = movies[movies['overview'].notna()]\n",
    "\n",
    "# Create a TF-IDF vectorizer (Term Frequency-Inverse Document Frequency)\n",
    "# This converts the 'overview' column into a matrix of TF-IDF features.\n",
    "tfidf = TfidfVectorizer(stop_words='english')\n",
    "movies['overview'] = movies['overview'].fillna('')\n",
    "tfidf_matrix = tfidf.fit_transform(movies['overview'])\n",
    "\n",
    "# Compute the cosine similarity matrix\n",
    "cosine_sim = linear_kernel(tfidf_matrix, tfidf_matrix)\n",
    "\n",
    "# Function that takes in movie title as input and outputs most similar movies\n",
    "def get_recommendations(title, cosine_sim=cosine_sim):\n",
    "    # Get the index of the movie that matches the title\n",
    "    idx = movies[movies['title'] == title].index[0]\n",
    "\n",
    "    # Get the pairwsie similarity scores of all movies with that movie\n",
    "    sim_scores = list(enumerate(cosine_sim[idx]))\n",
    "\n",
    "    # Sort the movies based on the similarity scores\n",
    "    sim_scores = sorted(sim_scores, key=lambda x: x[1], reverse=True)\n",
    "\n",
    "    # Get the scores of the 10 most similar movies\n",
    "    sim_scores = sim_scores[1:11]\n",
    "\n",
    "    # Get the movie indices\n",
    "    movie_indices = [i[0] for i in sim_scores]\n",
    "\n",
    "    # Return the top 10 most similar movies\n",
    "    recommended_movies = movies['title'].iloc[movie_indices]\n",
    "    return \"\\n\".join(recommended_movies)\n",
    "\n",
    "# Test the function with a movie\n",
    "print(get_recommendations('The Dark Knight Rises'))"
   ]
  },
  {
   "cell_type": "markdown",
   "id": "a82b918c",
   "metadata": {},
   "source": [
    "## It retrieves the most similar movie matching the input title 'The Dark Knight Rises' from the content-based recommendation system. The similarity is based on the overviews of the movies in the dataset.\n",
    "\n",
    "Here's a brief explanation of each title in the output:\n",
    "\n",
    "1. The Dark Knight: This is the follow-up movie to 'Batman Begins', and the predecessor of 'The Dark Knight Rises'. It is anticipated to bear a similar aspect in comparison because they are both part of the same trilogy and therefore likely to bear identical themes as well as may have matching characters in their overviews.\n",
    "\n",
    "2. Batman Forever and Batman Returns: They are, well, also Batman films, so presumably they would have, well, roughly equivalent themes and characters as the others.\n",
    "\n",
    "3. Batman: It's the first Batman film, so it's expected to be pretty much like other Batman films.\n",
    "\n",
    "4. Batman: The Dark Knight Returns, Part 2: This is one of the animated films in the Batman series. Being animated, it should probably follow along the lines of themes and characters found in the live action Batman films.\n",
    "\n",
    "5. Batman Begins:  This should be very similar to the 'The Dark Knight Rises' since being the first movie under 'Dark Knight' trilogy.\n",
    "\n",
    "6. Slow Burn: This isn't a Batman movie but maybe some of the similar themes when looked at in its overview that could include things such as crime, justice, or mystery.\n",
    "\n",
    "7. Batman v Superman: Dawn of Justice: This too is a Batman movie so therefore probably be expected with other Batman movies.\n",
    "\n",
    "8. JFK: This is not a Batman movie, but it could have similar themes of crime, justice, or conspiracy in its overview.\n",
    "\n",
    "9. Batman & Robin: Another Batman movie, so more of the same probably.\n",
    "\n",
    "Just remember that all the above recommendations are based upon textual overviews of movies and not on genre, not on director, and certainly not on actor."
   ]
  }
 ],
 "metadata": {
  "kernelspec": {
   "display_name": "Python 3 (ipykernel)",
   "language": "python",
   "name": "python3"
  },
  "language_info": {
   "codemirror_mode": {
    "name": "ipython",
    "version": 3
   },
   "file_extension": ".py",
   "mimetype": "text/x-python",
   "name": "python",
   "nbconvert_exporter": "python",
   "pygments_lexer": "ipython3",
   "version": "3.9.7"
  }
 },
 "nbformat": 4,
 "nbformat_minor": 5
}
